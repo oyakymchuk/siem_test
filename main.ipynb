{
 "cells": [
  {
   "cell_type": "code",
   "execution_count": 1,
   "metadata": {},
   "outputs": [],
   "source": [
    "import pandas as pd\n",
    "import numpy as np\n",
    "from io import StringIO\n",
    "import matplotlib.pyplot as plt"
   ]
  },
  {
   "cell_type": "code",
   "execution_count": 2,
   "metadata": {},
   "outputs": [],
   "source": [
    "encodings = []\n",
    "for i in range(1000):\n",
    "    filepath = './data/test-{}.csv'.format(i)  \n",
    "    with open(filepath, mode='rb') as fp:\n",
    "        encoding = str(fp.readline()).split(\"=\")[1].split(\"\\\\\")[0]\n",
    "        encodings.append(encoding)"
   ]
  },
  {
   "cell_type": "code",
   "execution_count": 3,
   "metadata": {},
   "outputs": [],
   "source": [
    "encodings_unique = set(encodings)"
   ]
  },
  {
   "cell_type": "code",
   "execution_count": 4,
   "metadata": {},
   "outputs": [],
   "source": [
    "entities = 'abcdef'"
   ]
  },
  {
   "cell_type": "code",
   "execution_count": 5,
   "metadata": {},
   "outputs": [],
   "source": [
    "entity_counter = {}\n",
    "entity_unique_strings = {}\n",
    "entity_values = {}"
   ]
  },
  {
   "cell_type": "code",
   "execution_count": 6,
   "metadata": {},
   "outputs": [],
   "source": [
    "for entity in entities:\n",
    "    entity_counter[entity] = 0\n",
    "    entity_unique_strings[entity] = set([])\n",
    "    entity_values[entity] = []"
   ]
  },
  {
   "cell_type": "markdown",
   "metadata": {},
   "source": [
    "Q2 answer:\n",
    "in cell #7 you can see how I did deal with misformated data. I had only 1000 files and I decided that I can't drop bad data, that's why I tried to do my best to transform data into correct form."
   ]
  },
  {
   "cell_type": "code",
   "execution_count": 7,
   "metadata": {},
   "outputs": [],
   "source": [
    "for i in range(1000):\n",
    "    try:\n",
    "        df = pd.read_csv(\"./data/test-{}.csv\".format(i), encoding=encodings[i], skiprows=1, header=None)\n",
    "        for row in range(df.shape[0]):\n",
    "            entity_counter[df.iloc[row][0]] += 1\n",
    "            entity_unique_strings[df.iloc[row][0]].add(df.iloc[row][2])\n",
    "            entity_values[df.iloc[row][0]].append(float(''.join(ch for ch in str(df.iloc[row][1]).replace(',', '.') if ch in '0123456789.')))\n",
    "    except:\n",
    "#         print(i)\n",
    "        try:\n",
    "            with open(\"./data/test-{}.csv\".format(i), encoding=encodings[i], mode='r') as f:\n",
    "                temp = f.readline()\n",
    "                text = ''\n",
    "                while temp:\n",
    "                    temp = f.readline().replace(',,', ',').replace(', ,', ',').replace(',\\n', '\\n')\n",
    "                    if (len(temp.split(',')) > 3):\n",
    "                        temp = ','.join(temp.split(',')[:3]) + '\\n' \n",
    "                    text += temp\n",
    "                df = pd.read_csv(StringIO(text), encoding=encodings[i], header=None, sep=',')\n",
    "                for row in range(df.shape[0]):\n",
    "                    entity_counter[df.iloc[rw][0]] += 1\n",
    "                    entity_unique_strings[df.iloc[row][0]].add(df.iloc[row][2])\n",
    "                    entity_values[df.iloc[row][0]].append(float(''.join(ch for ch in str(df.iloc[row][1]).replace(',', '.') if ch in '0123456789.')))\n",
    "        except UnicodeDecodeError:\n",
    "            with open(\"./data/test-{}.csv\".format(i), encoding='cp437', mode='r') as f:\n",
    "                temp = f.readline()\n",
    "                text = ''\n",
    "                while temp:\n",
    "                    temp = f.readline().replace(',,', ',').replace(', ,', ',').replace(',\\n', '\\n')\n",
    "                    if (len(temp.split(',')) > 3):\n",
    "                        temp = ','.join(temp.split(',')[:3]) + '\\n' \n",
    "                    text += temp\n",
    "                df = pd.read_csv(StringIO(text), encoding=encodings[i], header=None, sep=',')\n",
    "                for row in range(df.shape[0]):\n",
    "                    entity_counter[df.iloc[row][0]] += 1\n",
    "#                     print(df.iloc[raw][2])\n",
    "                    entity_unique_strings[df.iloc[row][0]].add(df.iloc[row][2])\n",
    "                    entity_values[df.iloc[row][0]].append(float(''.join(ch for ch in str(df.iloc[row][1]).replace(',', '.') if ch in '0123456789.')))\n",
    "        \n",
    "        "
   ]
  },
  {
   "cell_type": "markdown",
   "metadata": {},
   "source": [
    "## Task #1"
   ]
  },
  {
   "cell_type": "code",
   "execution_count": 8,
   "metadata": {},
   "outputs": [
    {
     "name": "stdout",
     "output_type": "stream",
     "text": [
      "Entity a occur 987 times.\n",
      "Entity b occur 988 times.\n",
      "Entity c occur 985 times.\n",
      "Entity d occur 991 times.\n",
      "Entity e occur 992 times.\n",
      "Entity f occur 991 times.\n"
     ]
    }
   ],
   "source": [
    "for i in entity_counter:\n",
    "    print(\"Entity {} occur {} times.\".format(i, entity_counter[i]))"
   ]
  },
  {
   "cell_type": "code",
   "execution_count": 9,
   "metadata": {},
   "outputs": [
    {
     "data": {
      "text/plain": [
       "<BarContainer object of 6 artists>"
      ]
     },
     "execution_count": 9,
     "metadata": {},
     "output_type": "execute_result"
    },
    {
     "data": {
      "image/png": "[encoded data removed]",
      "text/plain": [
       "<Figure size 432x288 with 1 Axes>"
      ]
     },
     "metadata": {
      "needs_background": "light"
     },
     "output_type": "display_data"
    }
   ],
   "source": [
    "plt.ylim((950,1000))\n",
    "plt.xlabel('Entities')\n",
    "plt.ylabel('Number of occurrences')\n",
    "plt.bar(entity_counter.keys(), entity_counter.values())"
   ]
  },
  {
   "cell_type": "markdown",
   "metadata": {},
   "source": [
    "## Task #2"
   ]
  },
  {
   "cell_type": "code",
   "execution_count": 10,
   "metadata": {},
   "outputs": [
    {
     "name": "stdout",
     "output_type": "stream",
     "text": [
      "Entity a have 974 different strings.\n",
      "Entity b have 988 different strings.\n",
      "Entity c have 985 different strings.\n",
      "Entity d have 989 different strings.\n",
      "Entity e have 986 different strings.\n",
      "Entity f have 989 different strings.\n"
     ]
    }
   ],
   "source": [
    "for i in entities:\n",
    "    print('Entity {} have {} different strings.'.format(i, len(entity_unique_strings[i])))"
   ]
  },
  {
   "cell_type": "code",
   "execution_count": 11,
   "metadata": {},
   "outputs": [
    {
     "data": {
      "text/plain": [
       "<BarContainer object of 6 artists>"
      ]
     },
     "execution_count": 11,
     "metadata": {},
     "output_type": "execute_result"
    },
    {
     "data": {
      "image/png": "[encoded data removed]",
      "text/plain": [
       "<Figure size 432x288 with 1 Axes>"
      ]
     },
     "metadata": {
      "needs_background": "light"
     },
     "output_type": "display_data"
    }
   ],
   "source": [
    "plt.ylim((950,1000))\n",
    "plt.xlabel('Entities')\n",
    "plt.ylabel('Number of different strings')\n",
    "plt.bar(entity_unique_strings.keys(), [len(i) for i in entity_unique_strings.values()])"
   ]
  },
  {
   "cell_type": "markdown",
   "metadata": {},
   "source": [
    "## Task #3"
   ]
  },
  {
   "cell_type": "markdown",
   "metadata": {},
   "source": [
    "below each histogram you can find answer for Q1"
   ]
  },
  {
   "cell_type": "markdown",
   "metadata": {},
   "source": [
    "### Entity 'a'"
   ]
  },
  {
   "cell_type": "code",
   "execution_count": 12,
   "metadata": {},
   "outputs": [],
   "source": [
    "bins = np.linspace(1.0, 19.0, 19)\n",
    "inds = np.digitize(np.array(entity_values['a']).astype('float32'), bins)\n",
    "unique = np.arange(20)\n",
    "frequencies = dict(((i,0) for i in unique))\n",
    "for i in inds:\n",
    "    frequencies[i] += 1"
   ]
  },
  {
   "cell_type": "markdown",
   "metadata": {},
   "source": [
    "Is correct?"
   ]
  },
  {
   "cell_type": "code",
   "execution_count": 13,
   "metadata": {},
   "outputs": [
    {
     "data": {
      "text/plain": [
       "True"
      ]
     },
     "execution_count": 13,
     "metadata": {},
     "output_type": "execute_result"
    }
   ],
   "source": [
    "sum(frequencies.values()) == entity_counter['a']"
   ]
  },
  {
   "cell_type": "code",
   "execution_count": 14,
   "metadata": {},
   "outputs": [
    {
     "data": {
      "text/plain": [
       "<BarContainer object of 20 artists>"
      ]
     },
     "execution_count": 14,
     "metadata": {},
     "output_type": "execute_result"
    },
    {
     "data": {
      "image/png": "[encoded data removed]",
      "text/plain": [
       "<Figure size 432x288 with 1 Axes>"
      ]
     },
     "metadata": {
      "needs_background": "light"
     },
     "output_type": "display_data"
    }
   ],
   "source": [
    "plt.xlabel('Interval')\n",
    "plt.xticks(np.arange(20))\n",
    "plt.ylabel('Number of values')\n",
    "plt.bar(frequencies.keys(), frequencies.values())"
   ]
  },
  {
   "cell_type": "markdown",
   "metadata": {},
   "source": [
    "it looks like a normal distribution with $\\mu = 10$"
   ]
  },
  {
   "cell_type": "markdown",
   "metadata": {},
   "source": [
    "### Entity 'b'"
   ]
  },
  {
   "cell_type": "code",
   "execution_count": 15,
   "metadata": {},
   "outputs": [],
   "source": [
    "bins = np.linspace(1.0, 19.0, 19)\n",
    "inds = np.digitize(np.array(entity_values['b']).astype('float32'), bins)\n",
    "unique = np.arange(20)\n",
    "frequencies = dict(((i,0) for i in unique))\n",
    "for i in inds:\n",
    "    frequencies[i] += 1"
   ]
  },
  {
   "cell_type": "markdown",
   "metadata": {},
   "source": [
    "is correct?"
   ]
  },
  {
   "cell_type": "code",
   "execution_count": 16,
   "metadata": {},
   "outputs": [
    {
     "data": {
      "text/plain": [
       "True"
      ]
     },
     "execution_count": 16,
     "metadata": {},
     "output_type": "execute_result"
    }
   ],
   "source": [
    "sum(frequencies.values()) == entity_counter['b']"
   ]
  },
  {
   "cell_type": "code",
   "execution_count": 17,
   "metadata": {},
   "outputs": [
    {
     "data": {
      "text/plain": [
       "<BarContainer object of 20 artists>"
      ]
     },
     "execution_count": 17,
     "metadata": {},
     "output_type": "execute_result"
    },
    {
     "data": {
      "image/png": "[encoded data removed]",
      "text/plain": [
       "<Figure size 432x288 with 1 Axes>"
      ]
     },
     "metadata": {
      "needs_background": "light"
     },
     "output_type": "display_data"
    }
   ],
   "source": [
    "plt.xlabel('Interval')\n",
    "plt.xticks(np.arange(20))\n",
    "plt.ylabel('Number of values')\n",
    "plt.bar(frequencies.keys(), frequencies.values())"
   ]
  },
  {
   "cell_type": "markdown",
   "metadata": {},
   "source": [
    "it looks like a uniform distribution"
   ]
  },
  {
   "cell_type": "markdown",
   "metadata": {},
   "source": [
    "### Entity 'c'"
   ]
  },
  {
   "cell_type": "code",
   "execution_count": 18,
   "metadata": {},
   "outputs": [],
   "source": [
    "bins = np.linspace(1.0, 19.0, 19)\n",
    "inds = np.digitize(np.array(entity_values['c']).astype('float32'), bins)\n",
    "unique = np.arange(20)\n",
    "frequencies = dict(((i,0) for i in unique))\n",
    "for i in inds:\n",
    "    frequencies[i] += 1"
   ]
  },
  {
   "cell_type": "markdown",
   "metadata": {},
   "source": [
    "is correct?"
   ]
  },
  {
   "cell_type": "code",
   "execution_count": 19,
   "metadata": {},
   "outputs": [
    {
     "data": {
      "text/plain": [
       "True"
      ]
     },
     "execution_count": 19,
     "metadata": {},
     "output_type": "execute_result"
    }
   ],
   "source": [
    "sum(frequencies.values()) == entity_counter['c']"
   ]
  },
  {
   "cell_type": "code",
   "execution_count": 20,
   "metadata": {},
   "outputs": [
    {
     "data": {
      "text/plain": [
       "<BarContainer object of 20 artists>"
      ]
     },
     "execution_count": 20,
     "metadata": {},
     "output_type": "execute_result"
    },
    {
     "data": {
      "image/png": "[encoded data removed]",
      "text/plain": [
       "<Figure size 432x288 with 1 Axes>"
      ]
     },
     "metadata": {
      "needs_background": "light"
     },
     "output_type": "display_data"
    }
   ],
   "source": [
    "plt.xlabel('Interval')\n",
    "plt.xticks(np.arange(20))\n",
    "plt.ylabel('Number of values')\n",
    "plt.bar(frequencies.keys(), frequencies.values())"
   ]
  },
  {
   "cell_type": "markdown",
   "metadata": {},
   "source": [
    "it looks like an exponential distribution"
   ]
  },
  {
   "cell_type": "markdown",
   "metadata": {},
   "source": [
    "### Entity 'd'"
   ]
  },
  {
   "cell_type": "code",
   "execution_count": 21,
   "metadata": {},
   "outputs": [],
   "source": [
    "bins = np.linspace(1.0, 19.0, 19)\n",
    "inds = np.digitize(np.array(entity_values['d']).astype('float32'), bins)\n",
    "unique = np.arange(20)\n",
    "frequencies = dict(((i,0) for i in unique))\n",
    "for i in inds:\n",
    "    frequencies[i] += 1"
   ]
  },
  {
   "cell_type": "markdown",
   "metadata": {},
   "source": [
    "is correct?"
   ]
  },
  {
   "cell_type": "code",
   "execution_count": 22,
   "metadata": {},
   "outputs": [
    {
     "data": {
      "text/plain": [
       "True"
      ]
     },
     "execution_count": 22,
     "metadata": {},
     "output_type": "execute_result"
    }
   ],
   "source": [
    "sum(frequencies.values()) == entity_counter['d']"
   ]
  },
  {
   "cell_type": "code",
   "execution_count": 23,
   "metadata": {},
   "outputs": [
    {
     "data": {
      "text/plain": [
       "<BarContainer object of 20 artists>"
      ]
     },
     "execution_count": 23,
     "metadata": {},
     "output_type": "execute_result"
    },
    {
     "data": {
      "image/png": "[encoded data removed]",
      "text/plain": [
       "<Figure size 432x288 with 1 Axes>"
      ]
     },
     "metadata": {
      "needs_background": "light"
     },
     "output_type": "display_data"
    }
   ],
   "source": [
    "plt.xlabel('Interval')\n",
    "plt.xticks(np.arange(20))\n",
    "plt.ylabel('Number of values')\n",
    "plt.bar(frequencies.keys(), frequencies.values())"
   ]
  },
  {
   "cell_type": "markdown",
   "metadata": {},
   "source": [
    "it looks like a chi-square distribution"
   ]
  },
  {
   "cell_type": "markdown",
   "metadata": {},
   "source": [
    "### Entity 'e'"
   ]
  },
  {
   "cell_type": "code",
   "execution_count": 24,
   "metadata": {},
   "outputs": [],
   "source": [
    "bins = np.linspace(1.0, 19.0, 19)\n",
    "inds = np.digitize(np.array(entity_values['e']).astype('float32'), bins)\n",
    "unique = np.arange(20)\n",
    "frequencies = dict(((i,0) for i in unique))\n",
    "for i in inds:\n",
    "    frequencies[i] += 1"
   ]
  },
  {
   "cell_type": "markdown",
   "metadata": {},
   "source": [
    "is correct?"
   ]
  },
  {
   "cell_type": "code",
   "execution_count": 25,
   "metadata": {},
   "outputs": [
    {
     "data": {
      "text/plain": [
       "True"
      ]
     },
     "execution_count": 25,
     "metadata": {},
     "output_type": "execute_result"
    }
   ],
   "source": [
    "sum(frequencies.values()) == entity_counter['e']"
   ]
  },
  {
   "cell_type": "code",
   "execution_count": 26,
   "metadata": {},
   "outputs": [
    {
     "data": {
      "text/plain": [
       "<BarContainer object of 20 artists>"
      ]
     },
     "execution_count": 26,
     "metadata": {},
     "output_type": "execute_result"
    },
    {
     "data": {
      "image/png": "[encoded data removed]",
      "text/plain": [
       "<Figure size 432x288 with 1 Axes>"
      ]
     },
     "metadata": {
      "needs_background": "light"
     },
     "output_type": "display_data"
    }
   ],
   "source": [
    "plt.xlabel('Interval')\n",
    "plt.xticks(np.arange(20))\n",
    "plt.ylabel('Number of values')\n",
    "plt.bar(frequencies.keys(), frequencies.values())"
   ]
  },
  {
   "cell_type": "markdown",
   "metadata": {},
   "source": [
    "it looks like a uniform distribution"
   ]
  },
  {
   "cell_type": "markdown",
   "metadata": {},
   "source": [
    "### Entity 'f'"
   ]
  },
  {
   "cell_type": "code",
   "execution_count": 27,
   "metadata": {},
   "outputs": [],
   "source": [
    "bins = np.linspace(1.0, 19.0, 19)\n",
    "inds = np.digitize(np.array(entity_values['f']).astype('float32'), bins)\n",
    "unique = np.arange(20)\n",
    "frequencies = dict(((i,0) for i in unique))\n",
    "for i in inds:\n",
    "    frequencies[i] += 1"
   ]
  },
  {
   "cell_type": "markdown",
   "metadata": {},
   "source": [
    "is correct?"
   ]
  },
  {
   "cell_type": "code",
   "execution_count": 28,
   "metadata": {},
   "outputs": [
    {
     "data": {
      "text/plain": [
       "True"
      ]
     },
     "execution_count": 28,
     "metadata": {},
     "output_type": "execute_result"
    }
   ],
   "source": [
    "sum(frequencies.values()) == entity_counter['f']"
   ]
  },
  {
   "cell_type": "code",
   "execution_count": 29,
   "metadata": {},
   "outputs": [
    {
     "data": {
      "text/plain": [
       "<BarContainer object of 20 artists>"
      ]
     },
     "execution_count": 29,
     "metadata": {},
     "output_type": "execute_result"
    },
    {
     "data": {
      "image/png": "[encoded data removed]",
      "text/plain": [
       "<Figure size 432x288 with 1 Axes>"
      ]
     },
     "metadata": {
      "needs_background": "light"
     },
     "output_type": "display_data"
    }
   ],
   "source": [
    "plt.xlabel('Interval')\n",
    "plt.xticks(np.arange(20))\n",
    "plt.ylabel('Number of values')\n",
    "plt.bar(frequencies.keys(), frequencies.values())"
   ]
  },
  {
   "cell_type": "markdown",
   "metadata": {},
   "source": [
    "it looks like a normal distribution with $\\mu = 10$"
   ]
  },
  {
   "cell_type": "markdown",
   "metadata": {},
   "source": [
    "Q2 answer:\n",
    "in cell #7 you can see how I did deal with misformated data. I had only 1000 files and I decided that I can't drop bad data, that's why I tried to do my best to transform data into correct form."
   ]
  },
  {
   "cell_type": "markdown",
   "metadata": {},
   "source": [
    "Problems I found:\n",
    "- wrong encoding specified in first line -- I use try-except statement for it, if exception I found that all wrong files have encoding 'cp437'\n",
    "- ',,' instead of ',' what means +1 column -- I use try-except statement for it, if exception read file line-by-line with replece\n",
    "- ',' at the end fo row what also means +1 column -- previous case\n",
    "- ',' in string -- in this case I use only first part of string\n",
    "- value problems: string in value column, not numbers in string -- I use handmade filtering for numbers and '.' and use float() function"
   ]
  },
  {
   "cell_type": "code",
   "execution_count": null,
   "metadata": {},
   "outputs": [],
   "source": []
  }
 ],
 "metadata": {
  "kernelspec": {
   "display_name": "Python 3",
   "language": "python",
   "name": "python3"
  },
  "language_info": {
   "codemirror_mode": {
    "name": "ipython",
    "version": 3
   },
   "file_extension": ".py",
   "mimetype": "text/x-python",
   "name": "python",
   "nbconvert_exporter": "python",
   "pygments_lexer": "ipython3",
   "version": "3.7.3"
  }
 },
 "nbformat": 4,
 "nbformat_minor": 2
}
